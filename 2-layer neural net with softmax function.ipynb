{
 "cells": [
  {
   "cell_type": "markdown",
   "metadata": {},
   "source": [
    "# Simple 2-layer Neural Network with Softmax Function\n",
    "+ Simple 2-layer neural network with softmax function for multi-class classification.\n",
    "+ Classify red ball, green ball or blue ball for a given 2D input data."
   ]
  },
  {
   "cell_type": "code",
   "execution_count": 1,
   "metadata": {},
   "outputs": [],
   "source": [
    "import numpy as np\n",
    "import random\n",
    "import matplotlib.pyplot as plt\n",
    "import matplotlib as mpl\n",
    "eta = 0.7  # learning rate\n",
    "epoch = 5000"
   ]
  },
  {
   "cell_type": "markdown",
   "metadata": {},
   "source": [
    "### Softmax Function\n",
    "+ Softmax function is a function that takes an input as a vector of real numbers, and normalizes it into a probability \n",
    "+ distribution for each element of vector. To each elment of an input vector, the standard exponential function is \n",
    "+ applied, which is nomalized by the sum of  exponential values of all the elements of the vector. \n",
    "+ For softmax function, x - max(x)  is used to avoid overflow of exponent function. "
   ]
  },
  {
   "cell_type": "code",
   "execution_count": 2,
   "metadata": {},
   "outputs": [],
   "source": [
    "def sigmoid(x):\n",
    "    return 1.0/(1+ np.exp(-x))\n",
    "\n",
    "def sigmoid_deriv(x):\n",
    "    return x * (1.0 - x)\n",
    "\n",
    "def softmax(x):\n",
    "    # softmax   \n",
    "    e = np.exp(x - np.max(x)) # x-m is used to avoid overflow of exponent function\n",
    "    return e / np.sum(e, axis=0) # add in column"
   ]
  },
  {
   "cell_type": "markdown",
   "metadata": {},
   "source": [
    "### 2-layer Neural Network Model with Softmax Function\n",
    "+ Softmax function is used at outputs of layer 2.\n",
    "+ The delta of output layer using softmax function is output - target.\n",
    "+ Total error is also obtained by summing up the individual error and averaging them. \n",
    "+ For more details on the definition of delta function, refer to the class note."
   ]
  },
  {
   "cell_type": "code",
   "execution_count": 3,
   "metadata": {},
   "outputs": [],
   "source": [
    "class neuralnetwork:\n",
    "    # neural network model\n",
    "    \n",
    "    def __init__(self, x, w1, w2, y):\n",
    "        self.inputs   = x.T\n",
    "        self.weights1 = w1\n",
    "        self.weights2 = w2\n",
    "        self.b1 = np.zeros((4,1)) # bias at hidden layer \n",
    "        self.b2 = np.zeros((3,1)) # bias at output layer \n",
    "        self.target   = y.T       # target\n",
    "        self.output   = np.zeros(self.target.shape)\n",
    "\n",
    "    def forwardprop(self):\n",
    "        # forward processing of inputs and weights using sigmoid activation function\n",
    "        self.hiddenout = sigmoid(np.dot(self.weights1, self.inputs) + self.b1)\n",
    "        self.output = softmax(np.dot(self.weights2, self.hiddenout) + self.b2)\n",
    "\n",
    "    def backprop(self):\n",
    "        # backward processing of appling the chain rule to find derivative of the loss function with respect to weights\n",
    "        delta2 = (self.output - self.target)  \n",
    "        delta1 = np.dot(self.weights2.T, delta2) * sigmoid_deriv(self.hiddenout)\n",
    "        dw2 = np.dot(delta2, self.hiddenout.T)\n",
    "        dw1 = np.dot(delta1, self.inputs.T)\n",
    "\n",
    "        # update the weights with the derivative of the loss function\n",
    "        self.weights1 -= eta * dw1 / batchsize\n",
    "        self.weights2 -= eta * dw2 / batchsize\n",
    "\n",
    "        # update biases with the derivative of the loss function\n",
    "        self.b2 -= eta * np.sum(delta2, axis = 1, keepdims=True) / batchsize # add in row axis, keeping column dimension\n",
    "        self.b1 -= eta * np.sum(delta1, axis = 1, keepdims=True) / batchsize # add in row axis, keeping column dimension\n",
    "\n",
    "    def predict(self, x):\n",
    "        # predict the output for a given input x\n",
    "        self.hiddenout = sigmoid(np.dot(self.weights1, x))\n",
    "        self.output = sigmoid(np.dot(self.weights2, self.hiddenout))\n",
    "        return (self.output)\n",
    "        \n",
    "     # calculate error\n",
    "    def calculate_error(self):\n",
    "        error = np.sum(-self.target * np.log(self.output)) # cross entropy loss function for multi-class classification\n",
    "        return error"
   ]
  },
  {
   "cell_type": "markdown",
   "metadata": {},
   "source": [
    "### Data Set\n",
    "+ For simplicity, it is assumed that the color of ball can be identified with two features, i.e., x_axis and y_axis values.\n",
    "+ (x, y) values of red, green and blue balls are centered around (0, -3), (3, 3) and (-3, 3), respectively.\n",
    "+ Target values for red, green and blue balls are [1, 0, 0], [0, 1, 0] and [0, 0, 1], respectively.\n",
    "+ Formats of input data and targetvalue are shown below, which are basically lists of row vectors.\n",
    "+ In program, these data are converted to column vectors.\n",
    "+\n",
    "+  input data = \n",
    "+ [[0.1,0.3],  # input data item1\n",
    "+ [0.5,0.8],  # input data item2\n",
    "+ [0.7,0.6],  # input data item3\n",
    "+ [0.9,0.2]] # input data item4\n",
    "+   \n",
    "+  target data = \n",
    "+ [[0,1,0],  # target1, one-hot vector representation\n",
    "+  [1,0,0],  # target2, one-hot vector representation\n",
    "+  [0,0,1],  # target3, one-hot vector representation\n",
    "+  [1,0,0]]  # target4, one-hot vector representation"
   ]
  },
  {
   "cell_type": "code",
   "execution_count": 4,
   "metadata": {},
   "outputs": [
    {
     "data": {
      "image/png": "[encoded data removed]",
      "text/plain": [
       "<Figure size 432x288 with 1 Axes>"
      ]
     },
     "metadata": {
      "needs_background": "light"
     },
     "output_type": "display_data"
    }
   ],
   "source": [
    "if __name__ == \"__main__\":\n",
    "\n",
    "    # get training data set\n",
    "    samples = 10\n",
    "    attributes = 2\n",
    "    classes = 3\n",
    "    \n",
    "    np.random.seed(45)\n",
    "    data1_set = np.random.randn(samples, attributes) + np.array([0, -3])  # red ball\n",
    "    data2_set = np.random.randn(samples, attributes) + np.array([3,  3])  # green ball\n",
    "    data3_set = np.random.randn(samples, attributes) + np.array([-3, 3])  # blue ball\n",
    "   \n",
    "    feature_set = np.vstack([data1_set, data2_set, data3_set])   \n",
    "    labels = np.array([0]*samples + [1]*samples + [2]*samples)\n",
    "\n",
    "    # Initializing colors and building a colormap\n",
    "    cmap = mpl.colors.ListedColormap(['red', 'green', 'blue'])\n",
    "\n",
    "    # display data training data set\n",
    "    # plt.figure(figsize=(10,7)) \n",
    "    plt.scatter(feature_set[:,0], feature_set[:,1], c=labels, cmap =cmap, s= 200, alpha=0.5)  \n",
    "    plt.show()\n",
    "\n",
    "    one_hot_labels = np.zeros((samples*classes, classes))\n",
    "    \n",
    "    for i in range(samples*classes):  \n",
    "        one_hot_labels[i, labels[i]] = 1\n",
    "\n",
    "    inputdata = feature_set\n",
    "    targetvalue = one_hot_labels\n",
    "    batchsize = inputdata.shape[0]"
   ]
  },
  {
   "cell_type": "markdown",
   "metadata": {},
   "source": [
    "### Batch Gradient Descent Optimization\n",
    "+ All the input data are processed in batch at both forward and backward propagations.\n",
    "+ In comparison with SGD, batch GD optimizes more smoothly since the weights update are performed in batch."
   ]
  },
  {
   "cell_type": "code",
   "execution_count": 5,
   "metadata": {},
   "outputs": [
    {
     "name": "stdout",
     "output_type": "stream",
     "text": [
      "Error:  31.43868046889315\n",
      "Error:  0.24154080501060235\n",
      "Error:  0.11833567218776042\n",
      "Error:  0.0782811203514866\n",
      "Error:  0.05846364954473844\n",
      "Error:  0.04664493231400156\n",
      "Error:  0.03879726635099251\n",
      "Error:  0.03320787290486631\n",
      "Error:  0.029024944634819715\n",
      "Error:  0.02577713106869691\n",
      "target\n",
      "[[1. 0. 0.]\n",
      " [1. 0. 0.]\n",
      " [1. 0. 0.]\n",
      " [1. 0. 0.]\n",
      " [1. 0. 0.]\n",
      " [1. 0. 0.]\n",
      " [1. 0. 0.]\n",
      " [1. 0. 0.]\n",
      " [1. 0. 0.]\n",
      " [1. 0. 0.]\n",
      " [0. 1. 0.]\n",
      " [0. 1. 0.]\n",
      " [0. 1. 0.]\n",
      " [0. 1. 0.]\n",
      " [0. 1. 0.]\n",
      " [0. 1. 0.]\n",
      " [0. 1. 0.]\n",
      " [0. 1. 0.]\n",
      " [0. 1. 0.]\n",
      " [0. 1. 0.]\n",
      " [0. 0. 1.]\n",
      " [0. 0. 1.]\n",
      " [0. 0. 1.]\n",
      " [0. 0. 1.]\n",
      " [0. 0. 1.]\n",
      " [0. 0. 1.]\n",
      " [0. 0. 1.]\n",
      " [0. 0. 1.]\n",
      " [0. 0. 1.]\n",
      " [0. 0. 1.]]\n",
      "output after training\n",
      "[[9.99158922e-01 3.51406561e-04 4.89671527e-04]\n",
      " [9.99068471e-01 2.07058704e-04 7.24470645e-04]\n",
      " [9.98944475e-01 1.55468632e-04 9.00056130e-04]\n",
      " [9.99191033e-01 3.38641193e-04 4.70325654e-04]\n",
      " [9.98523056e-01 1.25673527e-03 2.20209155e-04]\n",
      " [9.99155089e-01 3.31016356e-04 5.13894695e-04]\n",
      " [9.98786707e-01 1.78492146e-04 1.03480123e-03]\n",
      " [9.98933505e-01 1.56330716e-04 9.10164159e-04]\n",
      " [9.98962785e-01 1.71089798e-04 8.66124731e-04]\n",
      " [9.99077121e-01 2.01313864e-04 7.21565346e-04]\n",
      " [1.10515888e-04 9.99546631e-01 3.42852915e-04]\n",
      " [7.17589854e-05 9.99502609e-01 4.25631674e-04]\n",
      " [7.49567246e-05 9.99453488e-01 4.71555565e-04]\n",
      " [7.08433316e-05 9.99508220e-01 4.20937151e-04]\n",
      " [2.53715710e-04 9.99581363e-01 1.64921562e-04]\n",
      " [7.39577858e-05 9.99508865e-01 4.17177219e-04]\n",
      " [7.16197822e-05 9.99495805e-01 4.32575468e-04]\n",
      " [6.99884407e-05 9.99514847e-01 4.15164837e-04]\n",
      " [7.14940773e-05 9.99505389e-01 4.23116664e-04]\n",
      " [7.48812062e-05 9.99511631e-01 4.13487650e-04]\n",
      " [3.24915594e-04 4.81269188e-04 9.99193815e-01]\n",
      " [3.18515445e-04 4.11512554e-04 9.99269972e-01]\n",
      " [3.07822590e-04 4.09649458e-04 9.99282528e-01]\n",
      " [3.06459695e-04 4.03930890e-04 9.99289609e-01]\n",
      " [4.37743550e-04 6.21598332e-04 9.98940658e-01]\n",
      " [3.19654689e-04 4.65950847e-04 9.99214394e-01]\n",
      " [3.22751223e-04 4.15419926e-04 9.99261829e-01]\n",
      " [3.21903210e-04 4.60940702e-04 9.99217156e-01]\n",
      " [4.70124528e-04 5.50144662e-04 9.98979731e-01]\n",
      " [3.15772785e-04 4.41149457e-04 9.99243078e-01]]\n",
      "Predicted data based on trained weights: \n",
      "Input:  [[ 1. -1.]]\n",
      "Output:  [[0.42956466 0.9996549  0.0138852 ]]\n"
     ]
    }
   ],
   "source": [
    "    w2 = np.random.rand(3, 4)     # number of output labels is 3\n",
    "    w1 = np.random.rand(4, inputdata.shape[1])  # number of nodes at a hidden layer is 4\n",
    "\n",
    "    nn = neuralnetwork(inputdata, w1, w2, targetvalue)\n",
    "\n",
    "    training_loss = []  \n",
    "  \n",
    "    # training \n",
    "    for i in range(epoch):    \n",
    "        nn.forwardprop()\n",
    "        nn.backprop()\n",
    "        if (i % 500) == 0:\n",
    "            print(\"Error: \", nn.calculate_error())\n",
    "            training_loss.append(nn.calculate_error()) # store training loss \n",
    " \n",
    "    print(\"target\")   \n",
    "    print(targetvalue)\n",
    "    print(\"output after training\")   \n",
    "    print(nn.output.T)\n",
    "\n",
    "    # predicting and testing the output for a given input data\n",
    "    # For a given input data [1, -1], it is predicated as red ball since the output is [0, 1, 0], i.e. the red ball.\n",
    "    x_prediction = np.array([[1.0, -1.0]])\n",
    "    predicted_output = nn.predict(x_prediction.T)\n",
    "    print(\"Predicted data based on trained weights: \")\n",
    "    print(\"Input: \", x_prediction)\n",
    "    print(\"Output: \", predicted_output.T)"
   ]
  },
  {
   "cell_type": "markdown",
   "metadata": {},
   "source": [
    "### Evaluation: Loss display"
   ]
  },
  {
   "cell_type": "code",
   "execution_count": 10,
   "metadata": {},
   "outputs": [
    {
     "data": {
      "image/png": "[encoded data removed]",
      "text/plain": [
       "<Figure size 432x288 with 1 Axes>"
      ]
     },
     "metadata": {
      "needs_background": "light"
     },
     "output_type": "display_data"
    }
   ],
   "source": [
    "#    print(training_loss)\n",
    "    # Create count of the number of epochs\n",
    "    epoch_count = range(1, len(training_loss) + 1)\n",
    "#    plt.figure(figsize=(15,5))\n",
    "    plt.plot(epoch_count, training_loss, 'b-')\n",
    "    plt.title(\"Model loss\")\n",
    "    plt.legend(['Training Loss'])\n",
    "    plt.xlabel('Epoch(x500)')\n",
    "    plt.ylabel('Loss')\n",
    "    plt.show()"
   ]
  },
  {
   "cell_type": "code",
   "execution_count": null,
   "metadata": {},
   "outputs": [],
   "source": []
  }
 ],
 "metadata": {
  "kernelspec": {
   "display_name": "Python 3",
   "language": "python",
   "name": "python3"
  },
  "language_info": {
   "codemirror_mode": {
    "name": "ipython",
    "version": 3
   },
   "file_extension": ".py",
   "mimetype": "text/x-python",
   "name": "python",
   "nbconvert_exporter": "python",
   "pygments_lexer": "ipython3",
   "version": "3.6.7"
  }
 },
 "nbformat": 4,
 "nbformat_minor": 2
}
