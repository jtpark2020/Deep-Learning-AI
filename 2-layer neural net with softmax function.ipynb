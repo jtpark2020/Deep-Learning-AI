{
 "cells": [
  {
   "cell_type": "markdown",
   "metadata": {},
   "source": [
    "# Simple 2-layer Neural Network with Softmax Function\n",
    "+ Simple 2-layer neural network with softmax function for multi-class classification.\n",
    "+ Classify red ball, green ball or blue ball for a given 2D input data."
   ]
  },
  {
   "cell_type": "code",
   "execution_count": 1,
   "metadata": {},
   "outputs": [],
   "source": [
    "import numpy as np\n",
    "import random\n",
    "import matplotlib.pyplot as plt\n",
    "import matplotlib as mpl\n",
    "\n",
    "eta = 0.03  # learning rate\n",
    "epoch = 10000"
   ]
  },
  {
   "cell_type": "markdown",
   "metadata": {},
   "source": [
    "### Softmax Function\n",
    "+ Softmax function is a function that takes an input as a vector of real numbers, and normalizes it into a probability \n",
    "+ distribution for each element of vector. To each elment of an input vector, the standard exponential function is \n",
    "+ applied, which is nomalized by the sum of  exponential values of all the elements of the vector. \n",
    "+ For softmax function, x - max(x)  is used to avoid overflow of exponent function. "
   ]
  },
  {
   "cell_type": "code",
   "execution_count": 2,
   "metadata": {},
   "outputs": [],
   "source": [
    "def sigmoid(x):\n",
    "    return 1.0/(1+ np.exp(-x))\n",
    "\n",
    "def sigmoid_deriv(x):\n",
    "    return x * (1.0 - x)\n",
    "\n",
    "def softmax(x):\n",
    "    # softmax   \n",
    "    e = np.exp(x - np.max(x)) # x-m is used to avoid overflow of exponent function\n",
    "    return e / np.sum(e, axis=0) # add in column"
   ]
  },
  {
   "cell_type": "markdown",
   "metadata": {},
   "source": [
    "### 2-layer Neural Network Model with Softmax Function\n",
    "+ Softmax function is used at outputs of layer 2.\n",
    "+ The delta of output layer using softmax function is output - target.\n",
    "+ Total error is also obtained by summing up the individual error and averaging them. \n",
    "+ For more details on the definition of delta function, refer to the class note."
   ]
  },
  {
   "cell_type": "code",
   "execution_count": 3,
   "metadata": {},
   "outputs": [],
   "source": [
    "class neuralnetwork:\n",
    "    # neural network model\n",
    "    \n",
    "    def __init__(self, x, w1, w2, y):\n",
    "        self.inputs   = x.T\n",
    "        self.weights1 = w1\n",
    "        self.weights2 = w2\n",
    "        self.b1 = np.zeros((4,1)) # bias at hidden layer \n",
    "        self.b2 = np.zeros((3,1)) # bias at output layer \n",
    "        self.target   = y.T       # target\n",
    "        self.output   = np.zeros(self.target.shape)\n",
    "\n",
    "    def forwardprop(self):\n",
    "        # forward processing of inputs and weights using sigmoid activation function\n",
    "        self.hiddenout = sigmoid(np.dot(self.weights1, self.inputs) + self.b1)\n",
    "        self.output = softmax(np.dot(self.weights2, self.hiddenout) + self.b2)\n",
    "\n",
    "    def backprop(self):\n",
    "        # backward processing of appling the chain rule to find derivative of the loss function with respect to weights\n",
    "        delta2 = (self.output - self.target)  \n",
    "        delta1 = np.dot(self.weights2.T, delta2) * sigmoid_deriv(self.hiddenout)\n",
    "        dw2 = np.dot(delta2, self.hiddenout.T)\n",
    "        dw1 = np.dot(delta1, self.inputs.T)\n",
    "\n",
    "        # update the weights with the derivative of the loss function\n",
    "        self.weights1 -= eta * dw1 / batchsize\n",
    "        self.weights2 -= eta * dw2 / batchsize\n",
    "\n",
    "        # update biases with the derivative of the loss function\n",
    "        self.b2 -= eta * np.sum(delta2, axis = 1, keepdims=True) / batchsize # add in row axis, keeping column dimension\n",
    "        self.b1 -= eta * np.sum(delta1, axis = 1, keepdims=True) / batchsize # add in row axis, keeping column dimension\n",
    "\n",
    "    def predict(self, x):\n",
    "        # predict the output for a given input x\n",
    "        self.hiddenout = sigmoid(np.dot(self.weights1, x))\n",
    "        self.output = sigmoid(np.dot(self.weights2, self.hiddenout))\n",
    "        return (self.output)\n",
    "\n",
    "    def calculate_error(self):               \n",
    "        # calculate error\n",
    "        error = np.sum(-self.target * np.log(self.output)) # cross entropy loss function for multi-class classification\n",
    "        return error\n",
    "    \n",
    "    def calculate_accuracy(self):\n",
    "        # calculate accuracy\n",
    "        target_label = np.argmax(self.target.T, axis = 1)\n",
    "        output_label = np.argmax(self.output.T, axis = 1)\n",
    "        accuracy = 100 * np.sum(target_label == output_label) / float(self.target.T.shape[0])\n",
    "        return accuracy"
   ]
  },
  {
   "cell_type": "markdown",
   "metadata": {},
   "source": [
    "### Data Set\n",
    "+ For simplicity, it is assumed that the color of ball can be identified with two features, i.e., x_axis and y_axis values.\n",
    "+ (x, y) values of red, green and blue balls are centered around (0, -3), (3, 3) and (-3, 3), respectively.\n",
    "+ Target values for red, green and blue balls are [1, 0, 0], [0, 1, 0] and [0, 0, 1], respectively.\n",
    "+ Formats of input data and targetvalue are shown below, which are basically lists of row vectors.\n",
    "+ In program, these data are converted to column vectors.\n",
    "+\n",
    "+  input data = \n",
    "+ [[0.1,0.3],  # input data item1\n",
    "+ [0.5,0.8],  # input data item2\n",
    "+ [0.7,0.6],  # input data item3\n",
    "+ [0.9,0.2]] # input data item4\n",
    "+   \n",
    "+  target data = \n",
    "+ [[0,1,0],  # target1, one-hot vector representation\n",
    "+  [1,0,0],  # target2, one-hot vector representation\n",
    "+  [0,0,1],  # target3, one-hot vector representation\n",
    "+  [1,0,0]]  # target4, one-hot vector representation"
   ]
  },
  {
   "cell_type": "code",
   "execution_count": 4,
   "metadata": {},
   "outputs": [
    {
     "data": {
      "image/png": "[encoded data removed]",
      "text/plain": [
       "<Figure size 432x288 with 1 Axes>"
      ]
     },
     "metadata": {
      "needs_background": "light"
     },
     "output_type": "display_data"
    }
   ],
   "source": [
    "if __name__ == \"__main__\":\n",
    "\n",
    "    # get training data set\n",
    "    samples = 10\n",
    "    attributes = 2\n",
    "    classes = 3\n",
    "    \n",
    "    np.random.seed(45)\n",
    "    data1_set = np.random.randn(samples, attributes) + np.array([0, -3])  # red ball\n",
    "    data2_set = np.random.randn(samples, attributes) + np.array([3,  3])  # green ball\n",
    "    data3_set = np.random.randn(samples, attributes) + np.array([-3, 3])  # blue ball\n",
    "   \n",
    "    feature_set = np.vstack([data1_set, data2_set, data3_set])   \n",
    "    labels = np.array([0]*samples + [1]*samples + [2]*samples)\n",
    "\n",
    "    # Initializing colors and building a colormap\n",
    "    cmap = mpl.colors.ListedColormap(['red', 'green', 'blue'])\n",
    "\n",
    "    # display data training data set\n",
    "    plt.scatter(feature_set[:,0], feature_set[:,1], c=labels, cmap =cmap, s= 200, alpha=0.5)  \n",
    "    plt.show()\n",
    "\n",
    "    one_hot_labels = np.zeros((samples*classes, classes))\n",
    "    \n",
    "    for i in range(samples*classes):  \n",
    "        one_hot_labels[i, labels[i]] = 1\n",
    "\n",
    "    inputdata = feature_set\n",
    "    targetvalue = one_hot_labels\n",
    "    batchsize = inputdata.shape[0]"
   ]
  },
  {
   "cell_type": "markdown",
   "metadata": {},
   "source": [
    "### Batch Gradient Descent Optimization\n",
    "+ All the input data are processed in batch at both forward and backward propagations.\n",
    "+ In comparison with SGD, batch GD optimizes more smoothly since the weights update are performed in batch."
   ]
  },
  {
   "cell_type": "code",
   "execution_count": 8,
   "metadata": {},
   "outputs": [
    {
     "name": "stdout",
     "output_type": "stream",
     "text": [
      "Error:  35.71038885763309\n",
      "Error:  7.576901514477217\n",
      "Error:  2.9847118700597894\n",
      "Error:  1.7525300105044872\n",
      "Error:  1.2221638992911648\n",
      "Error:  0.9330334561003721\n",
      "Error:  0.7523810677375687\n",
      "Error:  0.6292400904257007\n",
      "Error:  0.5401028989970138\n",
      "Error:  0.4726840491588925\n",
      "Error:  0.4199573057167209\n",
      "Error:  0.3776211420885488\n",
      "Error:  0.34289808407834577\n",
      "Error:  0.3139162940807656\n",
      "Error:  0.2893691210990775\n",
      "Error:  0.2683172224467679\n",
      "Error:  0.25006824190390753\n",
      "Error:  0.23410080226002933\n",
      "Error:  0.22001489660066254\n",
      "Error:  0.20749857981293987\n",
      "target\n",
      "[[1. 0. 0.]\n",
      " [1. 0. 0.]\n",
      " [1. 0. 0.]\n",
      " [1. 0. 0.]\n",
      " [1. 0. 0.]\n",
      " [1. 0. 0.]\n",
      " [1. 0. 0.]\n",
      " [1. 0. 0.]\n",
      " [1. 0. 0.]\n",
      " [1. 0. 0.]\n",
      " [0. 1. 0.]\n",
      " [0. 1. 0.]\n",
      " [0. 1. 0.]\n",
      " [0. 1. 0.]\n",
      " [0. 1. 0.]\n",
      " [0. 1. 0.]\n",
      " [0. 1. 0.]\n",
      " [0. 1. 0.]\n",
      " [0. 1. 0.]\n",
      " [0. 1. 0.]\n",
      " [0. 0. 1.]\n",
      " [0. 0. 1.]\n",
      " [0. 0. 1.]\n",
      " [0. 0. 1.]\n",
      " [0. 0. 1.]\n",
      " [0. 0. 1.]\n",
      " [0. 0. 1.]\n",
      " [0. 0. 1.]\n",
      " [0. 0. 1.]\n",
      " [0. 0. 1.]]\n",
      "output after training\n",
      "[[9.94403726e-01 2.75049234e-03 2.84578201e-03]\n",
      " [9.95060725e-01 1.86114558e-03 3.07812955e-03]\n",
      " [9.95718449e-01 1.45064809e-03 2.83090278e-03]\n",
      " [9.95259048e-01 2.24799632e-03 2.49295547e-03]\n",
      " [9.89515724e-01 7.79245727e-03 2.69181912e-03]\n",
      " [9.94459765e-01 2.64814861e-03 2.89208622e-03]\n",
      " [9.84665016e-01 2.32011439e-03 1.30148701e-02]\n",
      " [9.91864699e-01 1.77217774e-03 6.36312365e-03]\n",
      " [9.93795282e-01 1.77280365e-03 4.43191416e-03]\n",
      " [9.95727301e-01 1.64755273e-03 2.62514644e-03]\n",
      " [2.68705282e-03 9.96361731e-01 9.51216149e-04]\n",
      " [1.67823353e-03 9.96771501e-01 1.55026512e-03]\n",
      " [8.78500929e-04 9.85994425e-01 1.31270740e-02]\n",
      " [1.62583999e-03 9.96744946e-01 1.62921381e-03]\n",
      " [3.69006547e-03 9.95632941e-01 6.76993768e-04]\n",
      " [1.90387979e-03 9.96959942e-01 1.13617805e-03]\n",
      " [1.30129242e-03 9.95260103e-01 3.43860417e-03]\n",
      " [1.58413641e-03 9.96733277e-01 1.68258693e-03]\n",
      " [1.69546698e-03 9.96826791e-01 1.47774217e-03]\n",
      " [1.95038985e-03 9.96963484e-01 1.08612592e-03]\n",
      " [4.10224401e-03 3.72759766e-03 9.92170158e-01]\n",
      " [4.20170836e-03 2.49725410e-03 9.93301038e-01]\n",
      " [4.01572409e-03 2.54947744e-03 9.93434798e-01]\n",
      " [3.98559701e-03 2.43044815e-03 9.93583955e-01]\n",
      " [6.87017328e-03 5.39885704e-03 9.87730970e-01]\n",
      " [3.99581333e-03 3.70469430e-03 9.92299492e-01]\n",
      " [4.28283549e-03 2.54906719e-03 9.93168097e-01]\n",
      " [4.18001420e-03 3.34937805e-03 9.92470608e-01]\n",
      " [7.09883335e-03 4.14253621e-03 9.88758630e-01]\n",
      " [4.09598781e-03 3.06777626e-03 9.92836236e-01]]\n",
      "Predicted data based on trained weights: \n",
      "Input:  [[ 1. -1.]]\n",
      "Output:  [[0.91960841 0.98624414 0.04651733]]\n"
     ]
    }
   ],
   "source": [
    "    w2 = np.random.rand(3, 4)     # number of output labels is 3\n",
    "    w1 = np.random.rand(4, inputdata.shape[1])  # number of nodes at a hidden layer is 4\n",
    "\n",
    "    nn = neuralnetwork(inputdata, w1, w2, targetvalue)\n",
    "\n",
    "    training_loss = []  \n",
    "    training_accuracy = []\n",
    "  \n",
    "    # training \n",
    "    for i in range(epoch):    \n",
    "        nn.forwardprop()\n",
    "        nn.backprop()\n",
    "        if (i % 500) == 0:\n",
    "            print(\"Error: \", nn.calculate_error())\n",
    "            training_loss.append(nn.calculate_error())  # store training loss \n",
    "            training_accuracy.append(nn.calculate_accuracy()) #store training accuracy \n",
    " \n",
    "    print(\"target\")   \n",
    "    print(targetvalue)\n",
    "    print(\"output after training\")   \n",
    "    print(nn.output.T)\n",
    "\n",
    "    # predicting and testing the output for a given input data\n",
    "    # For a given input data [1, -1], it is predicated as red ball since the output is [0, 1, 0], i.e. the red ball.\n",
    "    x_prediction = np.array([[1.0, -1.0]])\n",
    "    predicted_output = nn.predict(x_prediction.T)\n",
    "    print(\"Predicted data based on trained weights: \")\n",
    "    print(\"Input: \", x_prediction)\n",
    "    print(\"Output: \", predicted_output.T)\n",
    "    if np.argmax(predicted_output.T) == 0:\n",
    "        print(\"it is blue ball\")\n",
    "    elif np.argmax(predicted_output.T) == 1:\n",
    "        print(\"it is red ball\")\n",
    "    elif np.argmax(predicted_output.T) == 2:\n",
    "        print(\"it is green ball\")  "
   ]
  },
  {
   "cell_type": "markdown",
   "metadata": {},
   "source": [
    "### Evaluation: Loss display"
   ]
  },
  {
   "cell_type": "code",
   "execution_count": 9,
   "metadata": {},
   "outputs": [
    {
     "data": {
      "image/png": "[encoded data removed]",
      "text/plain": [
       "<Figure size 432x288 with 1 Axes>"
      ]
     },
     "metadata": {
      "needs_background": "light"
     },
     "output_type": "display_data"
    }
   ],
   "source": [
    "    # Create count of the number of epochs\n",
    "    epoch_count = range(1, len(training_loss) + 1)\n",
    "    # show modelloss\n",
    "    plt.plot(epoch_count, training_loss, 'b-')\n",
    "    plt.title(\"Model loss\")\n",
    "    plt.legend(['Training Loss'])\n",
    "    plt.xlabel('Epoch(x500)')\n",
    "    plt.ylabel('Loss')\n",
    "    plt.show()"
   ]
  },
  {
   "cell_type": "markdown",
   "metadata": {},
   "source": [
    "### Evaluation: Accuracy display"
   ]
  },
  {
   "cell_type": "code",
   "execution_count": 10,
   "metadata": {},
   "outputs": [
    {
     "data": {
      "image/png": "[encoded data removed]",
      "text/plain": [
       "<Figure size 432x288 with 1 Axes>"
      ]
     },
     "metadata": {
      "needs_background": "light"
     },
     "output_type": "display_data"
    }
   ],
   "source": [
    "   # show model accuracy\n",
    "    plt.plot(epoch_count, training_accuracy, 'b-')\n",
    "    plt.title('Model Accuracy')\n",
    "    plt.legend(['Training Accuracy'])\n",
    "    plt.xlabel('Epoch(x1000)')\n",
    "    plt.ylabel('Accuracy')\n",
    "    plt.show()\n"
   ]
  },
  {
   "cell_type": "code",
   "execution_count": null,
   "metadata": {},
   "outputs": [],
   "source": []
  }
 ],
 "metadata": {
  "kernelspec": {
   "display_name": "Python 3",
   "language": "python",
   "name": "python3"
  },
  "language_info": {
   "codemirror_mode": {
    "name": "ipython",
    "version": 3
   },
   "file_extension": ".py",
   "mimetype": "text/x-python",
   "name": "python",
   "nbconvert_exporter": "python",
   "pygments_lexer": "ipython3",
   "version": "3.6.7"
  }
 },
 "nbformat": 4,
 "nbformat_minor": 2
}
