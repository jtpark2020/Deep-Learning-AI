{
 "cells": [
  {
   "cell_type": "markdown",
   "metadata": {},
   "source": [
    "# Simple 2-layer Neural Network with Softmax Function\n",
    "+ Simple 2-layer neural network with softmax function for multi-class classification.\n",
    "+ Classify red ball, green ball or blue ball for a given 2D input data."
   ]
  },
  {
   "cell_type": "code",
   "execution_count": 9,
   "metadata": {},
   "outputs": [],
   "source": [
    "import numpy as np\n",
    "import random\n",
    "import matplotlib.pyplot as plt\n",
    "import matplotlib as mpl\n",
    "\n",
    "eta = 0.03  # learning rate\n",
    "epoch = 10000"
   ]
  },
  {
   "cell_type": "markdown",
   "metadata": {},
   "source": [
    "### Softmax Function\n",
    "+ Softmax function is a function that takes an input as a vector of real numbers, and normalizes it into a probability \n",
    "+ distribution for each element of vector. To each elment of an input vector, the standard exponential function is \n",
    "+ applied, which is nomalized by the sum of  exponential values of all the elements of the vector. \n",
    "+ For softmax function, x - max(x)  is used to avoid overflow of exponent function. "
   ]
  },
  {
   "cell_type": "code",
   "execution_count": 10,
   "metadata": {},
   "outputs": [],
   "source": [
    "def sigmoid(x):\n",
    "    return 1.0/(1+ np.exp(-x))\n",
    "\n",
    "def sigmoid_deriv(x):\n",
    "    return x * (1.0 - x)\n",
    "\n",
    "def softmax(x):\n",
    "    # softmax   \n",
    "    e = np.exp(x - np.max(x)) # x-m is used to avoid overflow of exponent function\n",
    "    return e / np.sum(e, axis=0) # add in column"
   ]
  },
  {
   "cell_type": "markdown",
   "metadata": {},
   "source": [
    "### 2-layer Neural Network Model with Softmax Function\n",
    "+ Softmax function is used at outputs of layer 2.\n",
    "+ The delta of output layer using softmax function is output - target.\n",
    "+ Total error is also obtained by summing up the individual error and averaging them. \n",
    "+ For more details on the definition of delta function, refer to the class note."
   ]
  },
  {
   "cell_type": "code",
   "execution_count": 11,
   "metadata": {},
   "outputs": [],
   "source": [
    "class neuralnetwork:\n",
    "    # neural network model\n",
    "    \n",
    "    def __init__(self, x, w1, w2, y):\n",
    "        self.inputs   = x.T\n",
    "        self.weights1 = w1\n",
    "        self.weights2 = w2\n",
    "        self.b1 = np.zeros((4,1)) # bias at hidden layer \n",
    "        self.b2 = np.zeros((3,1)) # bias at output layer \n",
    "        self.target   = y.T       # target\n",
    "        self.output   = np.zeros(self.target.shape)\n",
    "\n",
    "    def forwardprop(self):\n",
    "        # forward processing of inputs and weights using sigmoid activation function\n",
    "        self.hiddenout = sigmoid(np.dot(self.weights1, self.inputs) + self.b1)\n",
    "        self.output = softmax(np.dot(self.weights2, self.hiddenout) + self.b2)\n",
    "\n",
    "    def backprop(self):\n",
    "        # backward processing of appling the chain rule to find derivative of the loss function with respect to weights\n",
    "        delta2 = (self.output - self.target)  \n",
    "        delta1 = np.dot(self.weights2.T, delta2) * sigmoid_deriv(self.hiddenout)\n",
    "        dw2 = np.dot(delta2, self.hiddenout.T)\n",
    "        dw1 = np.dot(delta1, self.inputs.T)\n",
    "\n",
    "        # update the weights with the derivative of the loss function\n",
    "        self.weights1 -= eta * dw1 / batchsize\n",
    "        self.weights2 -= eta * dw2 / batchsize\n",
    "\n",
    "        # update biases with the derivative of the loss function\n",
    "        self.b2 -= eta * np.sum(delta2, axis = 1, keepdims=True) / batchsize # add in row axis, keeping column dimension\n",
    "        self.b1 -= eta * np.sum(delta1, axis = 1, keepdims=True) / batchsize # add in row axis, keeping column dimension\n",
    "\n",
    "    def predict(self, x):\n",
    "        # predict the output for a given input x\n",
    "        self.hiddenout = sigmoid(np.dot(self.weights1, x) + self.b1)\n",
    "        self.output = softmax(np.dot(self.weights2, self.hiddenout) + self.b2)\n",
    "        return (self.output)\n",
    "\n",
    "    def calculate_error(self):               \n",
    "        # calculate error\n",
    "        error = np.sum(-self.target * np.log(self.output)) # cross entropy loss function for multi-class classification\n",
    "        return error\n",
    "    \n",
    "    def calculate_accuracy(self):\n",
    "        # calculate accuracy\n",
    "        target_label = np.argmax(self.target.T, axis = 1)\n",
    "        output_label = np.argmax(self.output.T, axis = 1)\n",
    "        accuracy = 100 * np.sum(target_label == output_label) / float(self.target.T.shape[0])\n",
    "        return accuracy"
   ]
  },
  {
   "cell_type": "markdown",
   "metadata": {},
   "source": [
    "### Data Set\n",
    "+ For simplicity, it is assumed that the color of ball can be identified with two features, i.e., x_axis and y_axis values.\n",
    "+ (x, y) values of red, green and blue balls are centered around (0, -3), (3, 3) and (-3, 3), respectively.\n",
    "+ Target values for red, green and blue balls are [1, 0, 0], [0, 1, 0] and [0, 0, 1], respectively.\n",
    "+ Formats of input data and targetvalue are shown below, which are basically lists of row vectors.\n",
    "+ In program, these data are converted to column vectors.\n",
    "+\n",
    "+  input data = \n",
    "+ $\\;\\;\\;\\;$[[0.1,0.3],  # input data item1\n",
    "+ $\\;\\;\\;\\;$[0.5,0.8],  # input data item2\n",
    "+ $\\;\\;\\;\\;$[0.7,0.6],  # input data item3\n",
    "+ $\\;\\;\\;\\;$[0.9,0.2]] # input data item4\n",
    "+   \n",
    "+  target data = \n",
    "+ $\\;\\;\\;\\;$[[0,1,0],  # target1, one-hot vector representation\n",
    "+  $\\;\\;\\;\\;$[1,0,0],  # target2, one-hot vector representation\n",
    "+  $\\;\\;\\;\\;$[0,0,1],  # target3, one-hot vector representation\n",
    "+  $\\;\\;\\;\\;$[1,0,0]]  # target4, one-hot vector representation"
   ]
  },
  {
   "cell_type": "code",
   "execution_count": 12,
   "metadata": {},
   "outputs": [
    {
     "data": {
      "image/png": "[encoded data removed]",
      "text/plain": [
       "<Figure size 432x288 with 1 Axes>"
      ]
     },
     "metadata": {
      "needs_background": "light"
     },
     "output_type": "display_data"
    }
   ],
   "source": [
    "if __name__ == \"__main__\":\n",
    "\n",
    "    # get training data set\n",
    "    samples = 10\n",
    "    attributes = 2\n",
    "    classes = 3\n",
    "    \n",
    "    np.random.seed(45)\n",
    "    data1_set = np.random.randn(samples, attributes) + np.array([0, -3])  # red ball\n",
    "    data2_set = np.random.randn(samples, attributes) + np.array([3,  3])  # green ball\n",
    "    data3_set = np.random.randn(samples, attributes) + np.array([-3, 3])  # blue ball\n",
    "   \n",
    "    feature_set = np.vstack([data1_set, data2_set, data3_set])   \n",
    "    labels = np.array([0]*samples + [1]*samples + [2]*samples)\n",
    "\n",
    "    # Initializing colors and building a colormap\n",
    "    cmap = mpl.colors.ListedColormap(['red', 'green', 'blue'])\n",
    "\n",
    "    # display data training data set\n",
    "    plt.scatter(feature_set[:,0], feature_set[:,1], c=labels, cmap =cmap, s= 200, alpha=0.5)  \n",
    "    plt.show()\n",
    "\n",
    "    one_hot_labels = np.zeros((samples*classes, classes))\n",
    "    \n",
    "    for i in range(samples*classes):  \n",
    "        one_hot_labels[i, labels[i]] = 1\n",
    "\n",
    "    inputdata = feature_set\n",
    "    targetvalue = one_hot_labels\n",
    "    batchsize = inputdata.shape[0]"
   ]
  },
  {
   "cell_type": "markdown",
   "metadata": {},
   "source": [
    "### Batch Gradient Descent Optimization\n",
    "+ All the input data are processed in batch at both forward and backward propagations.\n",
    "+ In comparison with SGD, batch GD optimizes more smoothly since the weights update are performed in batch."
   ]
  },
  {
   "cell_type": "code",
   "execution_count": 13,
   "metadata": {},
   "outputs": [
    {
     "name": "stdout",
     "output_type": "stream",
     "text": [
      "Error:  31.43868046889315\n",
      "Error:  8.475412755528122\n",
      "Error:  3.7168885133586067\n",
      "Error:  2.29305056849325\n",
      "Error:  1.6417464440483724\n",
      "Error:  1.2736115381604451\n",
      "Error:  1.038332736539918\n",
      "Error:  0.8754727649700951\n",
      "Error:  0.7562624097546887\n",
      "Error:  0.6653267013305726\n",
      "Error:  0.5937254652809217\n",
      "Error:  0.5359149947122467\n",
      "Error:  0.4882791310999299\n",
      "Error:  0.44836050588896564\n",
      "Error:  0.4144318471422493\n",
      "Error:  0.38524415775757337\n",
      "Error:  0.3598722247939759\n",
      "Error:  0.3376162849614648\n",
      "Error:  0.3179374221799383\n",
      "Error:  0.30041394370894936\n",
      "target\n",
      "[[1. 0. 0.]\n",
      " [1. 0. 0.]\n",
      " [1. 0. 0.]\n",
      " [1. 0. 0.]\n",
      " [1. 0. 0.]\n",
      " [1. 0. 0.]\n",
      " [1. 0. 0.]\n",
      " [1. 0. 0.]\n",
      " [1. 0. 0.]\n",
      " [1. 0. 0.]\n",
      " [0. 1. 0.]\n",
      " [0. 1. 0.]\n",
      " [0. 1. 0.]\n",
      " [0. 1. 0.]\n",
      " [0. 1. 0.]\n",
      " [0. 1. 0.]\n",
      " [0. 1. 0.]\n",
      " [0. 1. 0.]\n",
      " [0. 1. 0.]\n",
      " [0. 1. 0.]\n",
      " [0. 0. 1.]\n",
      " [0. 0. 1.]\n",
      " [0. 0. 1.]\n",
      " [0. 0. 1.]\n",
      " [0. 0. 1.]\n",
      " [0. 0. 1.]\n",
      " [0. 0. 1.]\n",
      " [0. 0. 1.]\n",
      " [0. 0. 1.]\n",
      " [0. 0. 1.]]\n",
      "output after training\n",
      "[[0.98892687 0.00514367 0.00592946]\n",
      " [0.98875946 0.00307544 0.0081651 ]\n",
      " [0.98769499 0.00218407 0.01012094]\n",
      " [0.98949734 0.00488163 0.00562103]\n",
      " [0.98169583 0.01482217 0.00348201]\n",
      " [0.98896217 0.00487501 0.00616282]\n",
      " [0.9854371  0.00261022 0.01195268]\n",
      " [0.9874755  0.00220806 0.01031645]\n",
      " [0.98772209 0.00249229 0.00978562]\n",
      " [0.98898546 0.00295673 0.00805781]\n",
      " [0.00167977 0.99409945 0.00422078]\n",
      " [0.00108646 0.99382983 0.00508371]\n",
      " [0.00113068 0.99321658 0.00565274]\n",
      " [0.00106797 0.99390666 0.00502536]\n",
      " [0.00297742 0.99454165 0.00248093]\n",
      " [0.00113122 0.99390556 0.00496322]\n",
      " [0.00107951 0.99373682 0.00518367]\n",
      " [0.00104978 0.99400375 0.00494647]\n",
      " [0.00108166 0.99386764 0.00505069]\n",
      " [0.0011483  0.99393584 0.00491586]\n",
      " [0.00377097 0.00586259 0.99036643]\n",
      " [0.00377647 0.00490951 0.99131402]\n",
      " [0.0035835  0.00488687 0.99152963]\n",
      " [0.00356369 0.0047818  0.99165451]\n",
      " [0.00535901 0.00780065 0.98684034]\n",
      " [0.00368671 0.00561012 0.99070318]\n",
      " [0.00384366 0.00497455 0.99118179]\n",
      " [0.00376439 0.0056328  0.99060281]\n",
      " [0.00578744 0.00681772 0.98739483]\n",
      " [0.00368233 0.00535688 0.99096079]]\n",
      "Predicted data based on trained weights: \n",
      "Input:  [[ 1. -1.]]\n",
      "Output:  [[0.74641836 0.25206956 0.00151208]]\n",
      "it is red ball\n"
     ]
    }
   ],
   "source": [
    "    w2 = np.random.rand(3, 4)     # number of output labels is 3\n",
    "    w1 = np.random.rand(4, inputdata.shape[1])  # number of nodes at a hidden layer is 4\n",
    "\n",
    "    nn = neuralnetwork(inputdata, w1, w2, targetvalue)\n",
    "\n",
    "    training_loss = []  \n",
    "    training_accuracy = []\n",
    "  \n",
    "    # training \n",
    "    for i in range(epoch):    \n",
    "        nn.forwardprop()\n",
    "        nn.backprop()\n",
    "        if (i % 500) == 0:\n",
    "            print(\"Error: \", nn.calculate_error())\n",
    "            training_loss.append(nn.calculate_error())  # store training loss \n",
    "            training_accuracy.append(nn.calculate_accuracy()) #store training accuracy \n",
    " \n",
    "    print(\"target\")   \n",
    "    print(targetvalue)\n",
    "    print(\"output after training\")   \n",
    "    print(nn.output.T)\n",
    "\n",
    "    # predicting and testing the output for a given input data\n",
    "    # For a given input data [1, -1], it is predicated as red ball since the output is [0, 1, 0], i.e. the red ball.\n",
    "    x_prediction = np.array([[1.0, -1.0]])\n",
    "    predicted_output = nn.predict(x_prediction.T)\n",
    "    print(\"Predicted data based on trained weights: \")\n",
    "    print(\"Input: \", x_prediction)\n",
    "    print(\"Output: \", predicted_output.T)\n",
    "    if np.argmax(predicted_output.T) == 0:\n",
    "        print(\"it is red ball\")\n",
    "    elif np.argmax(predicted_output.T) == 1:\n",
    "        print(\"it is green ball\")\n",
    "    elif np.argmax(predicted_output.T) == 2:\n",
    "        print(\"it is blue ball\")  "
   ]
  },
  {
   "cell_type": "markdown",
   "metadata": {},
   "source": [
    "### Evaluation: Loss display"
   ]
  },
  {
   "cell_type": "code",
   "execution_count": 14,
   "metadata": {},
   "outputs": [
    {
     "data": {
      "image/png": "[encoded data removed]",
      "text/plain": [
       "<Figure size 432x288 with 1 Axes>"
      ]
     },
     "metadata": {
      "needs_background": "light"
     },
     "output_type": "display_data"
    }
   ],
   "source": [
    "    # Create count of the number of epochs\n",
    "    epoch_count = range(1, len(training_loss) + 1)\n",
    "    # visualize model loss\n",
    "    plt.plot(epoch_count, training_loss, 'b-')\n",
    "    plt.title(\"Model loss\")\n",
    "    plt.legend(['Training Loss'])\n",
    "    plt.xlabel('Epoch(x500)')\n",
    "    plt.ylabel('Loss')\n",
    "    plt.show()"
   ]
  },
  {
   "cell_type": "markdown",
   "metadata": {},
   "source": [
    "### Evaluation: Accuracy display"
   ]
  },
  {
   "cell_type": "code",
   "execution_count": 15,
   "metadata": {},
   "outputs": [
    {
     "data": {
      "image/png": "[encoded data removed]",
      "text/plain": [
       "<Figure size 432x288 with 1 Axes>"
      ]
     },
     "metadata": {
      "needs_background": "light"
     },
     "output_type": "display_data"
    }
   ],
   "source": [
    "   # visualize model accuracy\n",
    "    plt.plot(epoch_count, training_accuracy, 'b-')\n",
    "    plt.title('Model Accuracy')\n",
    "    plt.legend(['Training Accuracy'])\n",
    "    plt.xlabel('Epoch(x1000)')\n",
    "    plt.ylabel('Accuracy')\n",
    "    plt.show()\n"
   ]
  },
  {
   "cell_type": "code",
   "execution_count": null,
   "metadata": {},
   "outputs": [],
   "source": []
  }
 ],
 "metadata": {
  "kernelspec": {
   "display_name": "Python 3",
   "language": "python",
   "name": "python3"
  },
  "language_info": {
   "codemirror_mode": {
    "name": "ipython",
    "version": 3
   },
   "file_extension": ".py",
   "mimetype": "text/x-python",
   "name": "python",
   "nbconvert_exporter": "python",
   "pygments_lexer": "ipython3",
   "version": "3.6.7"
  }
 },
 "nbformat": 4,
 "nbformat_minor": 2
}
